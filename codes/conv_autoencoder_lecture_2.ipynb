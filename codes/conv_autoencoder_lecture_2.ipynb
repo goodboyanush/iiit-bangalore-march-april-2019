{
 "cells": [
  {
   "cell_type": "code",
   "execution_count": null,
   "metadata": {},
   "outputs": [],
   "source": [
    "pip install tensorflow\n",
    "pip install keras"
   ]
  },
  {
   "cell_type": "code",
   "execution_count": 1,
   "metadata": {},
   "outputs": [
    {
     "name": "stderr",
     "output_type": "stream",
     "text": [
      "Using TensorFlow backend.\n"
     ]
    }
   ],
   "source": [
    "from keras.layers import Input, Conv2D, MaxPooling2D, UpSampling2D\n",
    "from keras.models import Model\n",
    "from keras.datasets import mnist\n",
    "from keras.callbacks import TensorBoard\n",
    "from keras import backend as K\n",
    "import numpy as np\n",
    "import matplotlib.pyplot as plt\n",
    "import pickle"
   ]
  },
  {
   "cell_type": "code",
   "execution_count": 8,
   "metadata": {},
   "outputs": [
    {
     "name": "stdout",
     "output_type": "stream",
     "text": [
      "shape of encoded (None, 4, 4, 8)\n"
     ]
    }
   ],
   "source": [
    "\n",
    "input_img = Input(shape=(28, 28, 1))    # adapt this if using 'channels_first' image data format\n",
    "\n",
    "x = Conv2D(16, (3, 3), activation='relu', padding='same')(input_img)\n",
    "x = MaxPooling2D((2, 2), padding='same')(x)\n",
    "x = Conv2D(8, (3, 3), activation='relu', padding='same')(x)\n",
    "x = MaxPooling2D((2, 2), padding='same')(x)\n",
    "x = Conv2D(8, (3, 3), activation='relu', padding='same')(x)\n",
    "encoded = MaxPooling2D((2, 2), padding='same')(x)\n",
    "\n",
    "print(\"shape of encoded\", K.int_shape(encoded))"
   ]
  },
  {
   "cell_type": "code",
   "execution_count": 3,
   "metadata": {},
   "outputs": [],
   "source": [
    "x = Conv2D(8, (3, 3), activation='relu', padding='same')(encoded)\n",
    "x = UpSampling2D((2, 2))(x)\n",
    "x = Conv2D(8, (3, 3), activation='relu', padding='same')(x)\n",
    "x = UpSampling2D((2, 2))(x)\n",
    "x = Conv2D(16, (3, 3), activation='relu')(x)\n",
    "x = UpSampling2D((2, 2))(x)\n",
    "decoded = Conv2D(1, (3, 3), activation='sigmoid', padding='same')(x)"
   ]
  },
  {
   "cell_type": "code",
   "execution_count": 4,
   "metadata": {},
   "outputs": [],
   "source": [
    "autoencoder = Model(input_img, decoded)\n",
    "autoencoder.compile(optimizer='adadelta', loss='binary_crossentropy')"
   ]
  },
  {
   "cell_type": "code",
   "execution_count": 5,
   "metadata": {},
   "outputs": [],
   "source": [
    "from keras.datasets import mnist\n",
    "(x_train, y_train), (x_test, y_test) = mnist.load_data()\n",
    "\n",
    "x_train = x_train.astype('float32') / 255.\n",
    "x_test = x_test.astype('float32') / 255.\n",
    "x_train = np.reshape(x_train, (len(x_train), 28, 28, 1))    \n",
    "x_test = np.reshape(x_test, (len(x_test), 28, 28, 1))  "
   ]
  },
  {
   "cell_type": "code",
   "execution_count": 6,
   "metadata": {},
   "outputs": [
    {
     "name": "stdout",
     "output_type": "stream",
     "text": [
      "Train on 60000 samples, validate on 10000 samples\n",
      "Epoch 1/50\n",
      " - 73s - loss: 0.2182 - val_loss: 0.1676\n",
      "Epoch 2/50\n",
      " - 78s - loss: 0.1552 - val_loss: 0.1447\n",
      "Epoch 3/50\n",
      " - 63s - loss: 0.1419 - val_loss: 0.1381\n",
      "Epoch 4/50\n",
      " - 63s - loss: 0.1336 - val_loss: 0.1287\n",
      "Epoch 5/50\n",
      " - 63s - loss: 0.1287 - val_loss: 0.1244\n",
      "Epoch 6/50\n",
      " - 63s - loss: 0.1252 - val_loss: 0.1245\n",
      "Epoch 7/50\n",
      " - 63s - loss: 0.1224 - val_loss: 0.1171\n",
      "Epoch 8/50\n",
      " - 63s - loss: 0.1204 - val_loss: 0.1209\n",
      "Epoch 9/50\n",
      " - 64s - loss: 0.1190 - val_loss: 0.1208\n",
      "Epoch 10/50\n",
      " - 63s - loss: 0.1173 - val_loss: 0.1199\n",
      "Epoch 11/50\n",
      " - 63s - loss: 0.1160 - val_loss: 0.1126\n",
      "Epoch 12/50\n",
      " - 64s - loss: 0.1146 - val_loss: 0.1110\n",
      "Epoch 13/50\n",
      " - 64s - loss: 0.1135 - val_loss: 0.1130\n",
      "Epoch 14/50\n",
      " - 64s - loss: 0.1131 - val_loss: 0.1113\n",
      "Epoch 15/50\n",
      " - 64s - loss: 0.1121 - val_loss: 0.1109\n",
      "Epoch 16/50\n",
      " - 64s - loss: 0.1117 - val_loss: 0.1093\n",
      "Epoch 17/50\n",
      " - 64s - loss: 0.1108 - val_loss: 0.1091\n",
      "Epoch 18/50\n",
      " - 64s - loss: 0.1101 - val_loss: 0.1089\n",
      "Epoch 19/50\n",
      " - 64s - loss: 0.1095 - val_loss: 0.1101\n",
      "Epoch 20/50\n",
      " - 64s - loss: 0.1089 - val_loss: 0.1093\n",
      "Epoch 21/50\n",
      " - 64s - loss: 0.1083 - val_loss: 0.1083\n",
      "Epoch 22/50\n",
      " - 63s - loss: 0.1079 - val_loss: 0.1076\n",
      "Epoch 23/50\n",
      " - 63s - loss: 0.1072 - val_loss: 0.1069\n",
      "Epoch 24/50\n",
      " - 65s - loss: 0.1066 - val_loss: 0.1055\n",
      "Epoch 25/50\n",
      " - 64s - loss: 0.1061 - val_loss: 0.1059\n",
      "Epoch 26/50\n",
      " - 64s - loss: 0.1056 - val_loss: 0.1060\n",
      "Epoch 27/50\n",
      " - 65s - loss: 0.1055 - val_loss: 0.1042\n",
      "Epoch 28/50\n",
      " - 65s - loss: 0.1052 - val_loss: 0.1031\n",
      "Epoch 29/50\n",
      " - 65s - loss: 0.1050 - val_loss: 0.1041\n",
      "Epoch 30/50\n",
      " - 66s - loss: 0.1047 - val_loss: 0.1034\n",
      "Epoch 31/50\n",
      " - 65s - loss: 0.1045 - val_loss: 0.1027\n",
      "Epoch 32/50\n",
      " - 65s - loss: 0.1040 - val_loss: 0.1028\n",
      "Epoch 33/50\n",
      " - 65s - loss: 0.1040 - val_loss: 0.1020\n",
      "Epoch 34/50\n",
      " - 65s - loss: 0.1037 - val_loss: 0.1032\n",
      "Epoch 35/50\n",
      " - 65s - loss: 0.1034 - val_loss: 0.1031\n",
      "Epoch 36/50\n",
      " - 66s - loss: 0.1031 - val_loss: 0.1002\n",
      "Epoch 37/50\n",
      " - 65s - loss: 0.1029 - val_loss: 0.1005\n",
      "Epoch 38/50\n",
      " - 64s - loss: 0.1028 - val_loss: 0.1038\n",
      "Epoch 39/50\n",
      " - 65s - loss: 0.1026 - val_loss: 0.0990\n",
      "Epoch 40/50\n",
      " - 65s - loss: 0.1024 - val_loss: 0.1037\n",
      "Epoch 41/50\n",
      " - 63s - loss: 0.1022 - val_loss: 0.1028\n",
      "Epoch 42/50\n",
      " - 65s - loss: 0.1021 - val_loss: 0.1006\n",
      "Epoch 43/50\n",
      " - 65s - loss: 0.1020 - val_loss: 0.1014\n",
      "Epoch 44/50\n",
      " - 65s - loss: 0.1016 - val_loss: 0.1006\n",
      "Epoch 45/50\n",
      " - 65s - loss: 0.1016 - val_loss: 0.1013\n",
      "Epoch 46/50\n",
      " - 66s - loss: 0.1013 - val_loss: 0.0994\n",
      "Epoch 47/50\n",
      " - 65s - loss: 0.1010 - val_loss: 0.1013\n",
      "Epoch 48/50\n",
      " - 65s - loss: 0.1011 - val_loss: 0.1010\n",
      "Epoch 49/50\n",
      " - 65s - loss: 0.1009 - val_loss: 0.0987\n",
      "Epoch 50/50\n",
      " - 65s - loss: 0.1004 - val_loss: 0.1000\n"
     ]
    },
    {
     "data": {
      "text/plain": [
       "<keras.callbacks.History at 0x11f9ab4e0>"
      ]
     },
     "execution_count": 6,
     "metadata": {},
     "output_type": "execute_result"
    }
   ],
   "source": [
    "autoencoder.fit(x_train, x_train, epochs=50, batch_size=128, shuffle=True, validation_data=(x_test, x_test),\n",
    "                callbacks=[TensorBoard(log_dir='conv_autoencoder')], verbose=2)"
   ]
  },
  {
   "cell_type": "code",
   "execution_count": 9,
   "metadata": {},
   "outputs": [],
   "source": [
    "decoded_imgs = autoencoder.predict(x_test)"
   ]
  },
  {
   "cell_type": "code",
   "execution_count": 10,
   "metadata": {},
   "outputs": [
    {
     "data": {
      "image/png": "[encoded data removed]",
      "text/plain": [
       "<Figure size 1000x400 with 20 Axes>"
      ]
     },
     "metadata": {},
     "output_type": "display_data"
    }
   ],
   "source": [
    "n = 10\n",
    "plt.figure(figsize=(10, 4), dpi=100)\n",
    "for i in range(n):\n",
    "    # display original\n",
    "    ax = plt.subplot(2, n, i + 1)\n",
    "    plt.imshow(x_test[i].reshape(28, 28))\n",
    "    plt.gray()\n",
    "    ax.set_axis_off()\n",
    "\n",
    "    # display reconstruction\n",
    "    ax = plt.subplot(2, n, i + n + 1)\n",
    "    plt.imshow(decoded_imgs[i].reshape(28, 28))\n",
    "    plt.gray()\n",
    "    ax.set_axis_off()\n",
    "\n",
    "plt.show()"
   ]
  },
  {
   "cell_type": "code",
   "execution_count": 11,
   "metadata": {},
   "outputs": [],
   "source": [
    "encoder = Model(input_img, encoded)\n",
    "encoded_imgs = encoder.predict(x_test)\n",
    "\n",
    "# save latent space features 128-d vector\n",
    "pickle.dump(encoded_imgs, open('conv_autoe_features.pickle', 'wb'))"
   ]
  },
  {
   "cell_type": "code",
   "execution_count": 12,
   "metadata": {},
   "outputs": [
    {
     "data": {
      "image/png": "[encoded data removed]",
      "text/plain": [
       "<Figure size 1000x400 with 10 Axes>"
      ]
     },
     "metadata": {},
     "output_type": "display_data"
    }
   ],
   "source": [
    "n = 10\n",
    "plt.figure(figsize=(10, 4), dpi=100)\n",
    "for i in range(n):\n",
    "    ax = plt.subplot(1, n, i + 1)\n",
    "    plt.imshow(encoded_imgs[i].reshape(4, 4 * 8).T)\n",
    "    plt.gray()\n",
    "    ax.set_axis_off()\n",
    "\n",
    "plt.show()"
   ]
  },
  {
   "cell_type": "code",
   "execution_count": null,
   "metadata": {},
   "outputs": [],
   "source": []
  }
 ],
 "metadata": {
  "kernelspec": {
   "display_name": "Python 3",
   "language": "python",
   "name": "python3"
  },
  "language_info": {
   "codemirror_mode": {
    "name": "ipython",
    "version": 3
   },
   "file_extension": ".py",
   "mimetype": "text/x-python",
   "name": "python",
   "nbconvert_exporter": "python",
   "pygments_lexer": "ipython3",
   "version": "3.6.4"
  }
 },
 "nbformat": 4,
 "nbformat_minor": 2
}
